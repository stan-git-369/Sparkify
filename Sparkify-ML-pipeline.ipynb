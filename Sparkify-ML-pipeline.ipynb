{
 "cells": [
  {
   "cell_type": "markdown",
   "metadata": {},
   "source": [
    "# Sparkify Project Workspace\n",
    "This workspace contains a tiny subset (128MB) of the full dataset available (12GB). Feel free to use this workspace to build your project, or to explore a smaller subset with Spark before deploying your cluster on the cloud. Instructions for setting up your Spark cluster is included in the last lesson of the Extracurricular Spark Course content.\n",
    "\n",
    "You can follow the steps below to guide your data analysis and model building portion of this project."
   ]
  },
  {
   "cell_type": "code",
   "execution_count": 1,
   "metadata": {},
   "outputs": [],
   "source": [
    "# import libraries\n",
    "from pyspark.sql import SparkSession\n",
    "from pyspark.sql.functions import lit, col, concat, expr, min, max, avg, desc, explode, split, udf, isnull\n",
    "from pyspark.sql.types import IntegerType, BooleanType, ShortType, ArrayType, DoubleType\n",
    "\n",
    "from pyspark.ml import Pipeline\n",
    "from pyspark.ml.classification import LogisticRegression, RandomForestClassifier, GBTClassifier, DecisionTreeClassifier, NaiveBayes\n",
    "from pyspark.ml.evaluation import MulticlassClassificationEvaluator\n",
    "from pyspark.ml.evaluation import BinaryClassificationEvaluator\n",
    "from pyspark.ml.feature import CountVectorizer, IDF, Normalizer, PCA, RegexTokenizer, StandardScaler, StopWordsRemover, StringIndexer, VectorAssembler\n",
    "from pyspark.ml.regression import LinearRegression\n",
    "from pyspark.ml.tuning import CrossValidator, ParamGridBuilder\n",
    "from pyspark.ml.feature import StringIndexer\n",
    "from pyspark.ml.feature import OneHotEncoder\n",
    "\n",
    "import re\n",
    "import datetime\n",
    "import matplotlib.pyplot as plt\n",
    "import pandas as pd\n",
    "import seaborn as sns"
   ]
  },
  {
   "cell_type": "code",
   "execution_count": 2,
   "metadata": {},
   "outputs": [],
   "source": [
    "# create a Spark session\n",
    "spark = SparkSession.builder.appName(\"sparkify\").getOrCreate()"
   ]
  },
  {
   "cell_type": "markdown",
   "metadata": {},
   "source": [
    "# Load and Clean Dataset\n",
    "In this workspace, the mini-dataset file is `mini_sparkify_event_data.json`. Load and clean the dataset, checking for invalid or missing data - for example, records without userids or sessionids. "
   ]
  },
  {
   "cell_type": "code",
   "execution_count": 3,
   "metadata": {},
   "outputs": [],
   "source": [
    "sparkify_event_data = 'mini_sparkify_event_data.json'\n",
    "df = spark.read.json(sparkify_event_data)"
   ]
  },
  {
   "cell_type": "code",
   "execution_count": 4,
   "metadata": {},
   "outputs": [
    {
     "name": "stdout",
     "output_type": "stream",
     "text": [
      "+----------------+---------+---------+------+-------------+--------+---------+-----+--------------------+------+--------+-------------+---------+--------------------+------+-------------+--------------------+------+\n",
      "|          artist|     auth|firstName|gender|itemInSession|lastName|   length|level|            location|method|    page| registration|sessionId|                song|status|           ts|           userAgent|userId|\n",
      "+----------------+---------+---------+------+-------------+--------+---------+-----+--------------------+------+--------+-------------+---------+--------------------+------+-------------+--------------------+------+\n",
      "|  Martha Tilston|Logged In|    Colin|     M|           50| Freeman|277.89016| paid|     Bakersfield, CA|   PUT|NextSong|1538173362000|       29|           Rockpools|   200|1538352117000|Mozilla/5.0 (Wind...|    30|\n",
      "|Five Iron Frenzy|Logged In|    Micah|     M|           79|    Long|236.09424| free|Boston-Cambridge-...|   PUT|NextSong|1538331630000|        8|              Canada|   200|1538352180000|\"Mozilla/5.0 (Win...|     9|\n",
      "|    Adam Lambert|Logged In|    Colin|     M|           51| Freeman| 282.8273| paid|     Bakersfield, CA|   PUT|NextSong|1538173362000|       29|   Time For Miracles|   200|1538352394000|Mozilla/5.0 (Wind...|    30|\n",
      "|          Enigma|Logged In|    Micah|     M|           80|    Long|262.71302| free|Boston-Cambridge-...|   PUT|NextSong|1538331630000|        8|Knocking On Forbi...|   200|1538352416000|\"Mozilla/5.0 (Win...|     9|\n",
      "|       Daft Punk|Logged In|    Colin|     M|           52| Freeman|223.60771| paid|     Bakersfield, CA|   PUT|NextSong|1538173362000|       29|Harder Better Fas...|   200|1538352676000|Mozilla/5.0 (Wind...|    30|\n",
      "+----------------+---------+---------+------+-------------+--------+---------+-----+--------------------+------+--------+-------------+---------+--------------------+------+-------------+--------------------+------+\n",
      "only showing top 5 rows\n",
      "\n"
     ]
    }
   ],
   "source": [
    "df.show(5)"
   ]
  },
  {
   "cell_type": "code",
   "execution_count": 5,
   "metadata": {},
   "outputs": [
    {
     "name": "stdout",
     "output_type": "stream",
     "text": [
      "rows =  286500 columns =  18\n"
     ]
    }
   ],
   "source": [
    "rows = df.count()\n",
    "cols = len(df.columns)\n",
    "print('rows = ', rows, 'columns = ', cols)"
   ]
  },
  {
   "cell_type": "code",
   "execution_count": 6,
   "metadata": {},
   "outputs": [
    {
     "data": {
      "text/plain": [
       "['artist',\n",
       " 'auth',\n",
       " 'firstName',\n",
       " 'gender',\n",
       " 'itemInSession',\n",
       " 'lastName',\n",
       " 'length',\n",
       " 'level',\n",
       " 'location',\n",
       " 'method',\n",
       " 'page',\n",
       " 'registration',\n",
       " 'sessionId',\n",
       " 'song',\n",
       " 'status',\n",
       " 'ts',\n",
       " 'userAgent',\n",
       " 'userId']"
      ]
     },
     "execution_count": 6,
     "metadata": {},
     "output_type": "execute_result"
    }
   ],
   "source": [
    "df.columns"
   ]
  },
  {
   "cell_type": "code",
   "execution_count": 4,
   "metadata": {},
   "outputs": [
    {
     "data": {
      "text/plain": [
       "286500"
      ]
     },
     "execution_count": 4,
     "metadata": {},
     "output_type": "execute_result"
    }
   ],
   "source": [
    "df = df.dropna(subset=['sessionId', 'userId'])\n",
    "df.count()"
   ]
  },
  {
   "cell_type": "code",
   "execution_count": 5,
   "metadata": {},
   "outputs": [
    {
     "data": {
      "text/plain": [
       "278154"
      ]
     },
     "execution_count": 5,
     "metadata": {},
     "output_type": "execute_result"
    }
   ],
   "source": [
    "df = df[df.userId!=\"\"]\n",
    "df.count()"
   ]
  },
  {
   "cell_type": "code",
   "execution_count": 9,
   "metadata": {},
   "outputs": [],
   "source": [
    "df_pd = df.toPandas()"
   ]
  },
  {
   "cell_type": "code",
   "execution_count": 10,
   "metadata": {},
   "outputs": [
    {
     "data": {
      "text/html": [
       "<div>\n",
       "<style scoped>\n",
       "    .dataframe tbody tr th:only-of-type {\n",
       "        vertical-align: middle;\n",
       "    }\n",
       "\n",
       "    .dataframe tbody tr th {\n",
       "        vertical-align: top;\n",
       "    }\n",
       "\n",
       "    .dataframe thead th {\n",
       "        text-align: right;\n",
       "    }\n",
       "</style>\n",
       "<table border=\"1\" class=\"dataframe\">\n",
       "  <thead>\n",
       "    <tr style=\"text-align: right;\">\n",
       "      <th></th>\n",
       "      <th>itemInSession</th>\n",
       "      <th>length</th>\n",
       "      <th>registration</th>\n",
       "      <th>sessionId</th>\n",
       "      <th>status</th>\n",
       "      <th>ts</th>\n",
       "    </tr>\n",
       "  </thead>\n",
       "  <tbody>\n",
       "    <tr>\n",
       "      <th>count</th>\n",
       "      <td>278154.000000</td>\n",
       "      <td>228108.000000</td>\n",
       "      <td>2.781540e+05</td>\n",
       "      <td>278154.000000</td>\n",
       "      <td>278154.000000</td>\n",
       "      <td>2.781540e+05</td>\n",
       "    </tr>\n",
       "    <tr>\n",
       "      <th>mean</th>\n",
       "      <td>114.899182</td>\n",
       "      <td>249.117182</td>\n",
       "      <td>1.535359e+12</td>\n",
       "      <td>1042.561624</td>\n",
       "      <td>209.103216</td>\n",
       "      <td>1.540959e+12</td>\n",
       "    </tr>\n",
       "    <tr>\n",
       "      <th>std</th>\n",
       "      <td>129.851729</td>\n",
       "      <td>99.235179</td>\n",
       "      <td>3.291322e+09</td>\n",
       "      <td>726.501036</td>\n",
       "      <td>30.151389</td>\n",
       "      <td>1.506829e+09</td>\n",
       "    </tr>\n",
       "    <tr>\n",
       "      <th>min</th>\n",
       "      <td>0.000000</td>\n",
       "      <td>0.783220</td>\n",
       "      <td>1.521381e+12</td>\n",
       "      <td>1.000000</td>\n",
       "      <td>200.000000</td>\n",
       "      <td>1.538352e+12</td>\n",
       "    </tr>\n",
       "    <tr>\n",
       "      <th>25%</th>\n",
       "      <td>27.000000</td>\n",
       "      <td>199.888530</td>\n",
       "      <td>1.533522e+12</td>\n",
       "      <td>338.000000</td>\n",
       "      <td>200.000000</td>\n",
       "      <td>1.539699e+12</td>\n",
       "    </tr>\n",
       "    <tr>\n",
       "      <th>50%</th>\n",
       "      <td>70.000000</td>\n",
       "      <td>234.500770</td>\n",
       "      <td>1.536664e+12</td>\n",
       "      <td>1017.000000</td>\n",
       "      <td>200.000000</td>\n",
       "      <td>1.540934e+12</td>\n",
       "    </tr>\n",
       "    <tr>\n",
       "      <th>75%</th>\n",
       "      <td>157.000000</td>\n",
       "      <td>277.158730</td>\n",
       "      <td>1.537672e+12</td>\n",
       "      <td>1675.000000</td>\n",
       "      <td>200.000000</td>\n",
       "      <td>1.542268e+12</td>\n",
       "    </tr>\n",
       "    <tr>\n",
       "      <th>max</th>\n",
       "      <td>1321.000000</td>\n",
       "      <td>3024.665670</td>\n",
       "      <td>1.543247e+12</td>\n",
       "      <td>2474.000000</td>\n",
       "      <td>404.000000</td>\n",
       "      <td>1.543799e+12</td>\n",
       "    </tr>\n",
       "  </tbody>\n",
       "</table>\n",
       "</div>"
      ],
      "text/plain": [
       "       itemInSession         length  registration      sessionId  \\\n",
       "count  278154.000000  228108.000000  2.781540e+05  278154.000000   \n",
       "mean      114.899182     249.117182  1.535359e+12    1042.561624   \n",
       "std       129.851729      99.235179  3.291322e+09     726.501036   \n",
       "min         0.000000       0.783220  1.521381e+12       1.000000   \n",
       "25%        27.000000     199.888530  1.533522e+12     338.000000   \n",
       "50%        70.000000     234.500770  1.536664e+12    1017.000000   \n",
       "75%       157.000000     277.158730  1.537672e+12    1675.000000   \n",
       "max      1321.000000    3024.665670  1.543247e+12    2474.000000   \n",
       "\n",
       "              status            ts  \n",
       "count  278154.000000  2.781540e+05  \n",
       "mean      209.103216  1.540959e+12  \n",
       "std        30.151389  1.506829e+09  \n",
       "min       200.000000  1.538352e+12  \n",
       "25%       200.000000  1.539699e+12  \n",
       "50%       200.000000  1.540934e+12  \n",
       "75%       200.000000  1.542268e+12  \n",
       "max       404.000000  1.543799e+12  "
      ]
     },
     "execution_count": 10,
     "metadata": {},
     "output_type": "execute_result"
    }
   ],
   "source": [
    "df_pd.describe()"
   ]
  },
  {
   "cell_type": "code",
   "execution_count": 11,
   "metadata": {},
   "outputs": [
    {
     "data": {
      "text/plain": [
       "artist            17655\n",
       "auth                  2\n",
       "firstName           189\n",
       "gender                2\n",
       "itemInSession      1311\n",
       "lastName            173\n",
       "length            14865\n",
       "level                 2\n",
       "location            114\n",
       "method                2\n",
       "page                 19\n",
       "registration        225\n",
       "sessionId          2312\n",
       "song              58480\n",
       "status                3\n",
       "ts               269770\n",
       "userAgent            56\n",
       "userId              225\n",
       "dtype: int64"
      ]
     },
     "execution_count": 11,
     "metadata": {},
     "output_type": "execute_result"
    }
   ],
   "source": [
    "df_pd.nunique()"
   ]
  },
  {
   "cell_type": "code",
   "execution_count": 12,
   "metadata": {},
   "outputs": [
    {
     "data": {
      "text/plain": [
       "array(['Logged In', 'Cancelled'], dtype=object)"
      ]
     },
     "execution_count": 12,
     "metadata": {},
     "output_type": "execute_result"
    }
   ],
   "source": [
    "df_pd['auth'].unique()"
   ]
  },
  {
   "cell_type": "code",
   "execution_count": 13,
   "metadata": {},
   "outputs": [
    {
     "data": {
      "text/plain": [
       "array(['paid', 'free'], dtype=object)"
      ]
     },
     "execution_count": 13,
     "metadata": {},
     "output_type": "execute_result"
    }
   ],
   "source": [
    "df_pd['level'].unique()"
   ]
  },
  {
   "cell_type": "code",
   "execution_count": 14,
   "metadata": {},
   "outputs": [
    {
     "data": {
      "text/plain": [
       "array(['PUT', 'GET'], dtype=object)"
      ]
     },
     "execution_count": 14,
     "metadata": {},
     "output_type": "execute_result"
    }
   ],
   "source": [
    "df_pd['method'].unique()"
   ]
  },
  {
   "cell_type": "code",
   "execution_count": 15,
   "metadata": {},
   "outputs": [
    {
     "data": {
      "text/plain": [
       "array(['NextSong', 'Add to Playlist', 'Roll Advert', 'Thumbs Up',\n",
       "       'Downgrade', 'Thumbs Down', 'Home', 'Logout', 'Help', 'Upgrade',\n",
       "       'Add Friend', 'Settings', 'Submit Upgrade', 'About',\n",
       "       'Submit Downgrade', 'Error', 'Save Settings', 'Cancel',\n",
       "       'Cancellation Confirmation'], dtype=object)"
      ]
     },
     "execution_count": 15,
     "metadata": {},
     "output_type": "execute_result"
    }
   ],
   "source": [
    "df_pd['page'].unique()"
   ]
  },
  {
   "cell_type": "code",
   "execution_count": 16,
   "metadata": {},
   "outputs": [
    {
     "data": {
      "text/plain": [
       "array([200, 307, 404])"
      ]
     },
     "execution_count": 16,
     "metadata": {},
     "output_type": "execute_result"
    }
   ],
   "source": [
    "df_pd['status'].unique()"
   ]
  },
  {
   "cell_type": "code",
   "execution_count": 17,
   "metadata": {},
   "outputs": [
    {
     "data": {
      "text/plain": [
       "array([ 'Mozilla/5.0 (Windows NT 6.1; WOW64; rv:31.0) Gecko/20100101 Firefox/31.0',\n",
       "       '\"Mozilla/5.0 (Windows NT 6.1; WOW64) AppleWebKit/537.36 (KHTML, like Gecko) Chrome/37.0.2062.103 Safari/537.36\"',\n",
       "       '\"Mozilla/5.0 (Macintosh; Intel Mac OS X 10_9_4) AppleWebKit/537.36 (KHTML, like Gecko) Chrome/37.0.2062.94 Safari/537.36\"',\n",
       "       'Mozilla/5.0 (Windows NT 6.1; WOW64; rv:32.0) Gecko/20100101 Firefox/32.0',\n",
       "       'Mozilla/5.0 (Windows NT 6.0; rv:31.0) Gecko/20100101 Firefox/31.0',\n",
       "       'Mozilla/5.0 (Windows NT 6.2; WOW64; rv:31.0) Gecko/20100101 Firefox/31.0',\n",
       "       '\"Mozilla/5.0 (Windows NT 6.1; WOW64) AppleWebKit/537.36 (KHTML, like Gecko) Chrome/37.0.2062.94 Safari/537.36\"',\n",
       "       'Mozilla/5.0 (Macintosh; Intel Mac OS X 10.9; rv:31.0) Gecko/20100101 Firefox/31.0',\n",
       "       '\"Mozilla/5.0 (Macintosh; Intel Mac OS X 10_9_4) AppleWebKit/537.36 (KHTML, like Gecko) Chrome/36.0.1985.125 Safari/537.36\"',\n",
       "       '\"Mozilla/5.0 (iPhone; CPU iPhone OS 7_1_2 like Mac OS X) AppleWebKit/537.51.2 (KHTML, like Gecko) Version/7.0 Mobile/11D257 Safari/9537.53\"',\n",
       "       '\"Mozilla/5.0 (Windows NT 6.3; WOW64) AppleWebKit/537.36 (KHTML, like Gecko) Chrome/36.0.1985.125 Safari/537.36\"',\n",
       "       '\"Mozilla/5.0 (Windows NT 6.1; WOW64) AppleWebKit/537.36 (KHTML, like Gecko) Chrome/36.0.1985.143 Safari/537.36\"',\n",
       "       'Mozilla/5.0 (Windows NT 6.1; WOW64; Trident/7.0; rv:11.0) like Gecko',\n",
       "       '\"Mozilla/5.0 (Macintosh; Intel Mac OS X 10_9_4) AppleWebKit/537.77.4 (KHTML, like Gecko) Version/7.0.5 Safari/537.77.4\"',\n",
       "       '\"Mozilla/5.0 (Macintosh; Intel Mac OS X 10_9_4) AppleWebKit/537.36 (KHTML, like Gecko) Chrome/36.0.1985.143 Safari/537.36\"',\n",
       "       '\"Mozilla/5.0 (iPad; CPU OS 7_1_2 like Mac OS X) AppleWebKit/537.51.2 (KHTML, like Gecko) Version/7.0 Mobile/11D257 Safari/9537.53\"',\n",
       "       '\"Mozilla/5.0 (Windows NT 6.3; WOW64) AppleWebKit/537.36 (KHTML, like Gecko) Chrome/36.0.1985.143 Safari/537.36\"',\n",
       "       '\"Mozilla/5.0 (Windows NT 6.1; WOW64) AppleWebKit/537.36 (KHTML, like Gecko) Chrome/36.0.1985.125 Safari/537.36\"',\n",
       "       '\"Mozilla/5.0 (Macintosh; Intel Mac OS X 10_9_2) AppleWebKit/537.74.9 (KHTML, like Gecko) Version/7.0.2 Safari/537.74.9\"',\n",
       "       'Mozilla/5.0 (compatible; MSIE 10.0; Windows NT 6.1; WOW64; Trident/6.0)',\n",
       "       'Mozilla/5.0 (Windows NT 6.3; WOW64; rv:31.0) Gecko/20100101 Firefox/31.0',\n",
       "       '\"Mozilla/5.0 (Windows NT 6.2; WOW64) AppleWebKit/537.36 (KHTML, like Gecko) Chrome/36.0.1985.143 Safari/537.36\"',\n",
       "       '\"Mozilla/5.0 (Macintosh; Intel Mac OS X 10_9_4) AppleWebKit/537.78.2 (KHTML, like Gecko) Version/7.0.6 Safari/537.78.2\"',\n",
       "       'Mozilla/5.0 (X11; Linux x86_64; rv:31.0) Gecko/20100101 Firefox/31.0',\n",
       "       '\"Mozilla/5.0 (Macintosh; Intel Mac OS X 10_9_2) AppleWebKit/537.36 (KHTML, like Gecko) Chrome/36.0.1985.125 Safari/537.36\"',\n",
       "       '\"Mozilla/5.0 (Windows NT 6.1) AppleWebKit/537.36 (KHTML, like Gecko) Chrome/36.0.1985.143 Safari/537.36\"',\n",
       "       '\"Mozilla/5.0 (iPhone; CPU iPhone OS 7_1_1 like Mac OS X) AppleWebKit/537.51.2 (KHTML, like Gecko) Version/7.0 Mobile/11D201 Safari/9537.53\"',\n",
       "       '\"Mozilla/5.0 (Macintosh; Intel Mac OS X 10_8_5) AppleWebKit/537.36 (KHTML, like Gecko) Chrome/37.0.2062.94 Safari/537.36\"',\n",
       "       'Mozilla/5.0 (X11; Ubuntu; Linux x86_64; rv:31.0) Gecko/20100101 Firefox/31.0',\n",
       "       'Mozilla/5.0 (Windows NT 6.1; WOW64; rv:30.0) Gecko/20100101 Firefox/30.0',\n",
       "       '\"Mozilla/5.0 (Windows NT 6.2; WOW64) AppleWebKit/537.36 (KHTML, like Gecko) Chrome/36.0.1985.125 Safari/537.36\"',\n",
       "       'Mozilla/5.0 (compatible; MSIE 9.0; Windows NT 6.1; WOW64; Trident/5.0)',\n",
       "       'Mozilla/5.0 (Windows NT 6.1; WOW64; rv:24.0) Gecko/20100101 Firefox/24.0',\n",
       "       'Mozilla/5.0 (Windows NT 6.1; rv:31.0) Gecko/20100101 Firefox/31.0',\n",
       "       '\"Mozilla/5.0 (Macintosh; Intel Mac OS X 10_10) AppleWebKit/600.1.3 (KHTML, like Gecko) Version/8.0 Safari/600.1.3\"',\n",
       "       '\"Mozilla/5.0 (Windows NT 5.1) AppleWebKit/537.36 (KHTML, like Gecko) Chrome/36.0.1985.143 Safari/537.36\"',\n",
       "       'Mozilla/5.0 (X11; Ubuntu; Linux i686; rv:31.0) Gecko/20100101 Firefox/31.0',\n",
       "       '\"Mozilla/5.0 (Macintosh; Intel Mac OS X 10_9_3) AppleWebKit/537.76.4 (KHTML, like Gecko) Version/7.0.4 Safari/537.76.4\"',\n",
       "       '\"Mozilla/5.0 (X11; Linux x86_64) AppleWebKit/537.36 (KHTML, like Gecko) Chrome/36.0.1985.143 Safari/537.36\"',\n",
       "       '\"Mozilla/5.0 (X11; Linux x86_64) AppleWebKit/537.36 (KHTML, like Gecko) Chrome/36.0.1985.125 Safari/537.36\"',\n",
       "       '\"Mozilla/5.0 (Macintosh; Intel Mac OS X 10_9_2) AppleWebKit/537.75.14 (KHTML, like Gecko) Version/7.0.3 Safari/537.75.14\"',\n",
       "       '\"Mozilla/5.0 (Windows NT 6.1) AppleWebKit/537.36 (KHTML, like Gecko) Chrome/36.0.1985.125 Safari/537.36\"',\n",
       "       '\"Mozilla/5.0 (iPad; CPU OS 7_1_1 like Mac OS X) AppleWebKit/537.51.2 (KHTML, like Gecko) Version/7.0 Mobile/11D201 Safari/9537.53\"',\n",
       "       'Mozilla/5.0 (Macintosh; Intel Mac OS X 10.8; rv:31.0) Gecko/20100101 Firefox/31.0',\n",
       "       'Mozilla/5.0 (Macintosh; Intel Mac OS X 10.6; rv:31.0) Gecko/20100101 Firefox/31.0',\n",
       "       '\"Mozilla/5.0 (Macintosh; Intel Mac OS X 10_8_5) AppleWebKit/537.36 (KHTML, like Gecko) Chrome/36.0.1985.143 Safari/537.36\"',\n",
       "       '\"Mozilla/5.0 (iPhone; CPU iPhone OS 7_1 like Mac OS X) AppleWebKit/537.51.2 (KHTML, like Gecko) Version/7.0 Mobile/11D167 Safari/9537.53\"',\n",
       "       '\"Mozilla/5.0 (Macintosh; Intel Mac OS X 10_7_5) AppleWebKit/537.77.4 (KHTML, like Gecko) Version/6.1.5 Safari/537.77.4\"',\n",
       "       '\"Mozilla/5.0 (Macintosh; Intel Mac OS X 10_6_8) AppleWebKit/537.36 (KHTML, like Gecko) Chrome/36.0.1985.143 Safari/537.36\"',\n",
       "       '\"Mozilla/5.0 (Macintosh; Intel Mac OS X 10_9_4) AppleWebKit/537.36 (KHTML, like Gecko) Chrome/35.0.1916.153 Safari/537.36\"',\n",
       "       'Mozilla/5.0 (compatible; MSIE 9.0; Windows NT 6.1; Trident/5.0)',\n",
       "       '\"Mozilla/5.0 (Macintosh; Intel Mac OS X 10_10) AppleWebKit/600.1.8 (KHTML, like Gecko) Version/8.0 Safari/600.1.8\"',\n",
       "       'Mozilla/5.0 (Macintosh; Intel Mac OS X 10.7; rv:31.0) Gecko/20100101 Firefox/31.0',\n",
       "       '\"Mozilla/5.0 (Windows NT 6.1; WOW64) AppleWebKit/537.36 (KHTML, like Gecko) Chrome/35.0.1916.153 Safari/537.36\"',\n",
       "       '\"Mozilla/5.0 (Windows NT 5.1) AppleWebKit/537.36 (KHTML, like Gecko) Chrome/36.0.1985.125 Safari/537.36\"',\n",
       "       '\"Mozilla/5.0 (Macintosh; Intel Mac OS X 10_7_5) AppleWebKit/537.36 (KHTML, like Gecko) Chrome/36.0.1985.125 Safari/537.36\"'], dtype=object)"
      ]
     },
     "execution_count": 17,
     "metadata": {},
     "output_type": "execute_result"
    }
   ],
   "source": [
    "df_pd['userAgent'].unique()"
   ]
  },
  {
   "cell_type": "code",
   "execution_count": 18,
   "metadata": {},
   "outputs": [
    {
     "data": {
      "text/plain": [
       "array(['Bakersfield, CA', 'Boston-Cambridge-Newton, MA-NH',\n",
       "       'Tallahassee, FL', 'Spokane-Spokane Valley, WA',\n",
       "       'Baltimore-Columbia-Towson, MD', 'Denver-Aurora-Lakewood, CO',\n",
       "       'McAllen-Edinburg-Mission, TX', 'Columbus, GA-AL',\n",
       "       'Phoenix-Mesa-Scottsdale, AZ',\n",
       "       'Tampa-St. Petersburg-Clearwater, FL',\n",
       "       'New York-Newark-Jersey City, NY-NJ-PA',\n",
       "       'Philadelphia-Camden-Wilmington, PA-NJ-DE-MD',\n",
       "       'Atlanta-Sandy Springs-Roswell, GA',\n",
       "       'Los Angeles-Long Beach-Anaheim, CA', 'Quincy, IL-MO',\n",
       "       'New Philadelphia-Dover, OH', 'Kingsport-Bristol-Bristol, TN-VA',\n",
       "       'Myrtle Beach-Conway-North Myrtle Beach, SC-NC', 'Boulder, CO',\n",
       "       'Morgantown, WV', 'Minneapolis-St. Paul-Bloomington, MN-WI',\n",
       "       'Oklahoma City, OK', 'Hartford-West Hartford-East Hartford, CT',\n",
       "       'Lexington-Fayette, KY',\n",
       "       'Virginia Beach-Norfolk-Newport News, VA-NC',\n",
       "       'Louisville/Jefferson County, KY-IN',\n",
       "       'Houston-The Woodlands-Sugar Land, TX', 'Vineland-Bridgeton, NJ',\n",
       "       'Price, UT', 'Allentown-Bethlehem-Easton, PA-NJ',\n",
       "       'San Antonio-New Braunfels, TX', 'Omaha-Council Bluffs, NE-IA',\n",
       "       'Charlotte-Concord-Gastonia, NC-SC', 'Concord, NH', 'Jackson, MS',\n",
       "       'Danville, VA', 'Pittsburgh, PA', 'Selma, AL', 'Gainesville, FL',\n",
       "       'San Francisco-Oakland-Hayward, CA',\n",
       "       'Washington-Arlington-Alexandria, DC-VA-MD-WV',\n",
       "       'Dallas-Fort Worth-Arlington, TX',\n",
       "       'Sacramento--Roseville--Arden-Arcade, CA',\n",
       "       'Chicago-Naperville-Elgin, IL-IN-WI', 'Flint, MI',\n",
       "       'Oxnard-Thousand Oaks-Ventura, CA', 'Kansas City, MO-KS',\n",
       "       'Buffalo-Cheektowaga-Niagara Falls, NY',\n",
       "       'Indianapolis-Carmel-Anderson, IN', 'Atlantic City-Hammonton, NJ',\n",
       "       'Miami-Fort Lauderdale-West Palm Beach, FL',\n",
       "       'Las Vegas-Henderson-Paradise, NV', 'Bozeman, MT',\n",
       "       'Manchester-Nashua, NH', 'Albany-Schenectady-Troy, NY',\n",
       "       'Jacksonville, FL', 'Seattle-Tacoma-Bellevue, WA',\n",
       "       'Milwaukee-Waukesha-West Allis, WI', 'New Haven-Milford, CT',\n",
       "       'Winston-Salem, NC', 'Napa, CA', 'Dubuque, IA', 'Troy, AL',\n",
       "       'Memphis, TN-MS-AR', 'Fairbanks, AK', 'Detroit-Warren-Dearborn, MI',\n",
       "       'Muncie, IN', 'Anchorage, AK', 'Bridgeport-Stamford-Norwalk, CT',\n",
       "       'Providence-Warwick, RI-MA', 'Austin-Round Rock, TX',\n",
       "       'Billings, MT', 'Pontiac, IL',\n",
       "       'Riverside-San Bernardino-Ontario, CA', 'St. Louis, MO-IL',\n",
       "       'Laurel, MS', 'Raleigh, NC', 'Montgomery, AL', 'Syracuse, NY',\n",
       "       'Dayton, OH', 'Cincinnati, OH-KY-IN', 'Alexandria, LA',\n",
       "       'Deltona-Daytona Beach-Ormond Beach, FL', 'Corpus Christi, TX',\n",
       "       'San Diego-Carlsbad, CA', 'Stockton-Lodi, CA',\n",
       "       'Truckee-Grass Valley, CA', 'Kankakee, IL', 'Duluth, MN-WI',\n",
       "       'Port St. Lucie, FL', 'Greensboro-High Point, NC',\n",
       "       'Scranton--Wilkes-Barre--Hazleton, PA', 'Monroe, LA', 'Albany, OR',\n",
       "       'North Wilkesboro, NC', 'Little Rock-North Little Rock-Conway, AR',\n",
       "       'Cleveland-Elyria, OH', 'Greenville-Anderson-Mauldin, SC',\n",
       "       'Santa Maria-Santa Barbara, CA', 'Birmingham-Hoover, AL',\n",
       "       'Hagerstown-Martinsburg, MD-WV', 'Orlando-Kissimmee-Sanford, FL',\n",
       "       'Logan, UT-ID', 'Jacksonville, NC', 'London, KY', 'Sterling, IL',\n",
       "       'Salinas, CA', 'Portland-Vancouver-Hillsboro, OR-WA',\n",
       "       'Colorado Springs, CO', 'Ionia, MI', 'Cookeville, TN', 'Wilson, NC',\n",
       "       'San Jose-Sunnyvale-Santa Clara, CA', 'Roanoke, VA'], dtype=object)"
      ]
     },
     "execution_count": 18,
     "metadata": {},
     "output_type": "execute_result"
    }
   ],
   "source": [
    "df_pd['location'].unique()"
   ]
  },
  {
   "cell_type": "code",
   "execution_count": 19,
   "metadata": {},
   "outputs": [
    {
     "data": {
      "text/plain": [
       "array(['Rockpools', 'Canada', 'Time For Miracles', ..., 'Black Woman',\n",
       "       'King Of The Stereo', 'Tops'], dtype=object)"
      ]
     },
     "execution_count": 19,
     "metadata": {},
     "output_type": "execute_result"
    }
   ],
   "source": [
    "df_pd['song'].unique()"
   ]
  },
  {
   "cell_type": "code",
   "execution_count": null,
   "metadata": {},
   "outputs": [],
   "source": []
  },
  {
   "cell_type": "markdown",
   "metadata": {},
   "source": [
    "# Exploratory Data Analysis\n",
    "When you're working with the full dataset, perform EDA by loading a small subset of the data and doing basic manipulations within Spark. In this workspace, you are already provided a small subset of data you can explore.\n",
    "\n",
    "### Define Churn\n",
    "\n",
    "Once you've done some preliminary analysis, create a column `Churn` to use as the label for your model. I suggest using the `Cancellation Confirmation` events to define your churn, which happen for both paid and free users. As a bonus task, you can also look into the `Downgrade` events.\n",
    "\n",
    "### Explore Data\n",
    "Once you've defined churn, perform some exploratory data analysis to observe the behavior for users who stayed vs users who churned. You can start by exploring aggregates on these two groups of users, observing how much of a specific action they experienced per a certain time unit or number of songs played."
   ]
  },
  {
   "cell_type": "code",
   "execution_count": 20,
   "metadata": {},
   "outputs": [
    {
     "name": "stdout",
     "output_type": "stream",
     "text": [
      "+--------------------+\n",
      "|                page|\n",
      "+--------------------+\n",
      "|              Cancel|\n",
      "|    Submit Downgrade|\n",
      "|         Thumbs Down|\n",
      "|                Home|\n",
      "|           Downgrade|\n",
      "|         Roll Advert|\n",
      "|              Logout|\n",
      "|       Save Settings|\n",
      "|Cancellation Conf...|\n",
      "|               About|\n",
      "|            Settings|\n",
      "|     Add to Playlist|\n",
      "|          Add Friend|\n",
      "|            NextSong|\n",
      "|           Thumbs Up|\n",
      "|                Help|\n",
      "|             Upgrade|\n",
      "|               Error|\n",
      "|      Submit Upgrade|\n",
      "+--------------------+\n",
      "\n"
     ]
    }
   ],
   "source": [
    "df.select(\"page\").distinct().show()  "
   ]
  },
  {
   "cell_type": "code",
   "execution_count": 21,
   "metadata": {},
   "outputs": [
    {
     "data": {
      "text/plain": [
       "52"
      ]
     },
     "execution_count": 21,
     "metadata": {},
     "output_type": "execute_result"
    }
   ],
   "source": [
    "df_churn_user = df[df.page==\"Cancellation Confirmation\"].select(\"userId\").distinct()\n",
    "df_churn_user.count()"
   ]
  },
  {
   "cell_type": "code",
   "execution_count": 22,
   "metadata": {},
   "outputs": [
    {
     "data": {
      "text/plain": [
       "['125',\n",
       " '51',\n",
       " '54',\n",
       " '100014',\n",
       " '101',\n",
       " '29',\n",
       " '100021',\n",
       " '87',\n",
       " '73',\n",
       " '3',\n",
       " '28',\n",
       " '100022',\n",
       " '100025',\n",
       " '300007',\n",
       " '100006',\n",
       " '18',\n",
       " '70',\n",
       " '100005',\n",
       " '17',\n",
       " '100007',\n",
       " '300001',\n",
       " '100009',\n",
       " '100015',\n",
       " '200024',\n",
       " '100003',\n",
       " '103',\n",
       " '100024',\n",
       " '53',\n",
       " '122',\n",
       " '200017',\n",
       " '58',\n",
       " '100011',\n",
       " '100019',\n",
       " '100012',\n",
       " '200018',\n",
       " '200016',\n",
       " '200020',\n",
       " '106',\n",
       " '143',\n",
       " '32',\n",
       " '200001',\n",
       " '105',\n",
       " '200011',\n",
       " '100023',\n",
       " '100013',\n",
       " '100017',\n",
       " '121',\n",
       " '12',\n",
       " '200015',\n",
       " '129',\n",
       " '200021',\n",
       " '100001']"
      ]
     },
     "execution_count": 22,
     "metadata": {},
     "output_type": "execute_result"
    }
   ],
   "source": [
    "list_churn_user = df_churn_user.rdd.flatMap(lambda x: x).collect()\n",
    "list_churn_user"
   ]
  },
  {
   "cell_type": "code",
   "execution_count": 23,
   "metadata": {},
   "outputs": [],
   "source": [
    "df_churn = df.withColumn(\"churn\", df.userId.isin(list_churn_user))"
   ]
  },
  {
   "cell_type": "code",
   "execution_count": 24,
   "metadata": {},
   "outputs": [
    {
     "name": "stdout",
     "output_type": "stream",
     "text": [
      "+----------------+---------+---------+------+-------------+--------+---------+-----+--------------------+------+--------+-------------+---------+--------------------+------+-------------+--------------------+------+-----+\n",
      "|          artist|     auth|firstName|gender|itemInSession|lastName|   length|level|            location|method|    page| registration|sessionId|                song|status|           ts|           userAgent|userId|churn|\n",
      "+----------------+---------+---------+------+-------------+--------+---------+-----+--------------------+------+--------+-------------+---------+--------------------+------+-------------+--------------------+------+-----+\n",
      "|  Martha Tilston|Logged In|    Colin|     M|           50| Freeman|277.89016| paid|     Bakersfield, CA|   PUT|NextSong|1538173362000|       29|           Rockpools|   200|1538352117000|Mozilla/5.0 (Wind...|    30|false|\n",
      "|Five Iron Frenzy|Logged In|    Micah|     M|           79|    Long|236.09424| free|Boston-Cambridge-...|   PUT|NextSong|1538331630000|        8|              Canada|   200|1538352180000|\"Mozilla/5.0 (Win...|     9|false|\n",
      "|    Adam Lambert|Logged In|    Colin|     M|           51| Freeman| 282.8273| paid|     Bakersfield, CA|   PUT|NextSong|1538173362000|       29|   Time For Miracles|   200|1538352394000|Mozilla/5.0 (Wind...|    30|false|\n",
      "|          Enigma|Logged In|    Micah|     M|           80|    Long|262.71302| free|Boston-Cambridge-...|   PUT|NextSong|1538331630000|        8|Knocking On Forbi...|   200|1538352416000|\"Mozilla/5.0 (Win...|     9|false|\n",
      "|       Daft Punk|Logged In|    Colin|     M|           52| Freeman|223.60771| paid|     Bakersfield, CA|   PUT|NextSong|1538173362000|       29|Harder Better Fas...|   200|1538352676000|Mozilla/5.0 (Wind...|    30|false|\n",
      "+----------------+---------+---------+------+-------------+--------+---------+-----+--------------------+------+--------+-------------+---------+--------------------+------+-------------+--------------------+------+-----+\n",
      "only showing top 5 rows\n",
      "\n"
     ]
    }
   ],
   "source": [
    "df_churn.show(5)"
   ]
  },
  {
   "cell_type": "markdown",
   "metadata": {},
   "source": [
    "Data exploration for different groups of users"
   ]
  },
  {
   "cell_type": "code",
   "execution_count": 25,
   "metadata": {},
   "outputs": [
    {
     "name": "stdout",
     "output_type": "stream",
     "text": [
      "+------+-----+-----+\n",
      "|gender|churn|count|\n",
      "+------+-----+-----+\n",
      "|     M| true|   32|\n",
      "|     F|false|   84|\n",
      "|     F| true|   20|\n",
      "|     M|false|   89|\n",
      "+------+-----+-----+\n",
      "\n"
     ]
    }
   ],
   "source": [
    "# number of users depending on gender and churn\n",
    "df_churn.dropDuplicates(['userId']).groupby(['gender','churn']).count().show() "
   ]
  },
  {
   "cell_type": "code",
   "execution_count": 26,
   "metadata": {},
   "outputs": [
    {
     "name": "stdout",
     "output_type": "stream",
     "text": [
      "+------+-----+-----+\n",
      "|method|churn|count|\n",
      "+------+-----+-----+\n",
      "|   GET| true|   27|\n",
      "|   PUT|false|   85|\n",
      "|   PUT| true|   25|\n",
      "|   GET|false|   88|\n",
      "+------+-----+-----+\n",
      "\n"
     ]
    }
   ],
   "source": [
    "df_churn.dropDuplicates(['userId']).groupby(['method','churn']).count().show() "
   ]
  },
  {
   "cell_type": "code",
   "execution_count": 27,
   "metadata": {},
   "outputs": [],
   "source": [
    "# extract the state from location\n",
    "df_churn = df_churn.withColumn(\"state\", expr(\"substring(location, length(location)-1, length(location))\"))"
   ]
  },
  {
   "cell_type": "code",
   "execution_count": 28,
   "metadata": {},
   "outputs": [
    {
     "data": {
      "text/html": [
       "<div>\n",
       "<style scoped>\n",
       "    .dataframe tbody tr th:only-of-type {\n",
       "        vertical-align: middle;\n",
       "    }\n",
       "\n",
       "    .dataframe tbody tr th {\n",
       "        vertical-align: top;\n",
       "    }\n",
       "\n",
       "    .dataframe thead th {\n",
       "        text-align: right;\n",
       "    }\n",
       "</style>\n",
       "<table border=\"1\" class=\"dataframe\">\n",
       "  <thead>\n",
       "    <tr style=\"text-align: right;\">\n",
       "      <th></th>\n",
       "      <th>count</th>\n",
       "    </tr>\n",
       "  </thead>\n",
       "  <tbody>\n",
       "    <tr>\n",
       "      <th>count</th>\n",
       "      <td>62.000000</td>\n",
       "    </tr>\n",
       "    <tr>\n",
       "      <th>mean</th>\n",
       "      <td>3.629032</td>\n",
       "    </tr>\n",
       "    <tr>\n",
       "      <th>std</th>\n",
       "      <td>4.185196</td>\n",
       "    </tr>\n",
       "    <tr>\n",
       "      <th>min</th>\n",
       "      <td>1.000000</td>\n",
       "    </tr>\n",
       "    <tr>\n",
       "      <th>25%</th>\n",
       "      <td>1.000000</td>\n",
       "    </tr>\n",
       "    <tr>\n",
       "      <th>50%</th>\n",
       "      <td>2.000000</td>\n",
       "    </tr>\n",
       "    <tr>\n",
       "      <th>75%</th>\n",
       "      <td>4.000000</td>\n",
       "    </tr>\n",
       "    <tr>\n",
       "      <th>max</th>\n",
       "      <td>27.000000</td>\n",
       "    </tr>\n",
       "  </tbody>\n",
       "</table>\n",
       "</div>"
      ],
      "text/plain": [
       "           count\n",
       "count  62.000000\n",
       "mean    3.629032\n",
       "std     4.185196\n",
       "min     1.000000\n",
       "25%     1.000000\n",
       "50%     2.000000\n",
       "75%     4.000000\n",
       "max    27.000000"
      ]
     },
     "execution_count": 28,
     "metadata": {},
     "output_type": "execute_result"
    }
   ],
   "source": [
    "df_states = df_churn.dropDuplicates(['userId']).groupby(['state','churn']).count().toPandas()\n",
    "df_states.describe()"
   ]
  },
  {
   "cell_type": "code",
   "execution_count": null,
   "metadata": {},
   "outputs": [],
   "source": []
  },
  {
   "cell_type": "code",
   "execution_count": 29,
   "metadata": {},
   "outputs": [
    {
     "data": {
      "image/png": "[encoded data removed]",
      "text/plain": [
       "<matplotlib.figure.Figure at 0x7f9ceb4cf9b0>"
      ]
     },
     "metadata": {
      "needs_background": "light"
     },
     "output_type": "display_data"
    }
   ],
   "source": [
    "# distribution of users collected by state and churn\n",
    "df_states = df_churn.dropDuplicates(['userId']).groupby(['state','churn']).count().toPandas()\n",
    "# df_states.plot.bar(\"state\")\n",
    "fig, ax = plt.subplots(figsize=(15, 10))\n",
    "sns.barplot(x='state', y='count', hue='churn', data=df_states, ax=ax)\n",
    "plt.show()"
   ]
  },
  {
   "cell_type": "code",
   "execution_count": null,
   "metadata": {},
   "outputs": [],
   "source": []
  },
  {
   "cell_type": "code",
   "execution_count": 30,
   "metadata": {},
   "outputs": [
    {
     "name": "stdout",
     "output_type": "stream",
     "text": [
      "+--------------------+-----+-----+\n",
      "|                song|churn|count|\n",
      "+--------------------+-----+-----+\n",
      "|                null|false|   88|\n",
      "|                null| true|   27|\n",
      "|       Sehr kosmisch|false|    2|\n",
      "|      You're The One|false|    2|\n",
      "|Taking Control (A...|false|    1|\n",
      "|Phoenix (Basement...|false|    1|\n",
      "|He's The DJ_ I'm ...|false|    1|\n",
      "|          Hammerhart|false|    1|\n",
      "|         The Shining|false|    1|\n",
      "|Still Smokin (D L...|false|    1|\n",
      "|      Little Darlin'|false|    1|\n",
      "|                FACK|false|    1|\n",
      "|   Distance And Time| true|    1|\n",
      "|        Jernskjorten|false|    1|\n",
      "|          Yesterdays|false|    1|\n",
      "|         What I Mean| true|    1|\n",
      "|Judgement Begins ...|false|    1|\n",
      "|Citizens Of Tomorrow|false|    1|\n",
      "|          Dreamlover| true|    1|\n",
      "|     I Need A Dollar|false|    1|\n",
      "+--------------------+-----+-----+\n",
      "only showing top 20 rows\n",
      "\n"
     ]
    }
   ],
   "source": [
    "# most popular songs\n",
    "df_num_songs = df_churn.dropDuplicates(['userId']).groupby(['song','churn']).count().sort('count', ascending=False).show()"
   ]
  },
  {
   "cell_type": "code",
   "execution_count": null,
   "metadata": {},
   "outputs": [],
   "source": []
  },
  {
   "cell_type": "code",
   "execution_count": 31,
   "metadata": {},
   "outputs": [
    {
     "name": "stdout",
     "output_type": "stream",
     "text": [
      "+--------------------+-----------+--------------+\n",
      "|                page|count_churn|count_no_churn|\n",
      "+--------------------+-----------+--------------+\n",
      "|              Cancel|         52|          null|\n",
      "|    Submit Downgrade|          9|            54|\n",
      "|         Thumbs Down|        496|          2050|\n",
      "|                Home|       1672|          8410|\n",
      "|           Downgrade|        337|          1718|\n",
      "|         Roll Advert|        967|          2966|\n",
      "|              Logout|        553|          2673|\n",
      "|       Save Settings|         58|           252|\n",
      "|Cancellation Conf...|         52|          null|\n",
      "|               About|         56|           439|\n",
      "|            Settings|        270|          1244|\n",
      "|     Add to Playlist|       1038|          5488|\n",
      "|          Add Friend|        636|          3641|\n",
      "|            NextSong|      36394|        191714|\n",
      "|           Thumbs Up|       1859|         10692|\n",
      "|                Help|        239|          1215|\n",
      "|             Upgrade|        112|           387|\n",
      "|               Error|         32|           220|\n",
      "|      Submit Upgrade|         32|           127|\n",
      "+--------------------+-----------+--------------+\n",
      "\n"
     ]
    }
   ],
   "source": [
    "# Show the page use distribution between churn and no churn users\n",
    "df_page_churn = df_churn.filter(df_churn.churn==1).groupby([\"page\"]).count()\n",
    "df_page_churn = df_page_churn.withColumnRenamed('count', 'count_churn')\n",
    "df_page_nochurn = df_churn.filter(df_churn.churn==0).groupby([\"page\"]).count()\n",
    "df_page_nochurn = df_page_nochurn.withColumnRenamed('count', 'count_no_churn')\n",
    "df_page = df_page_churn.join(df_page_nochurn, on=['page'], how='outer')\n",
    "df_page.show()"
   ]
  },
  {
   "cell_type": "code",
   "execution_count": null,
   "metadata": {},
   "outputs": [],
   "source": []
  },
  {
   "cell_type": "code",
   "execution_count": 32,
   "metadata": {},
   "outputs": [
    {
     "name": "stdout",
     "output_type": "stream",
     "text": [
      "+----------------+----------+----------+\n",
      "|            page|count_paid|count_free|\n",
      "+----------------+----------+----------+\n",
      "|Submit Downgrade|        54|      null|\n",
      "|     Thumbs Down|      1624|       426|\n",
      "|            Home|      6361|      2049|\n",
      "|       Downgrade|      1718|      null|\n",
      "|     Roll Advert|       187|      2779|\n",
      "|          Logout|      1955|       718|\n",
      "|   Save Settings|       187|        65|\n",
      "|           About|       367|        72|\n",
      "|        Settings|       973|       271|\n",
      "| Add to Playlist|      4587|       901|\n",
      "|      Add Friend|      2934|       707|\n",
      "|        NextSong|    158907|     32807|\n",
      "|       Thumbs Up|      8960|      1732|\n",
      "|            Help|       964|       251|\n",
      "|         Upgrade|      null|       387|\n",
      "|           Error|       179|        41|\n",
      "|  Submit Upgrade|      null|       127|\n",
      "+----------------+----------+----------+\n",
      "\n"
     ]
    }
   ],
   "source": [
    "# Show the page use distribution between 'paid' and 'free' churn users\n",
    "df_churn_paid = df_churn.filter(df_churn.churn==0).filter(df_churn.level==\"paid\").groupby([\"page\"]).count()\n",
    "df_churn_paid = df_churn_paid.withColumnRenamed('count', 'count_paid')\n",
    "df_churn_free = df_churn.filter(df_churn.churn==0).filter(df_churn.level==\"free\").groupby([\"page\"]).count()\n",
    "df_churn_free = df_churn_free.withColumnRenamed('count', 'count_free')\n",
    "df_page_1 = df_churn_paid.join(df_churn_free, on=['page'], how='outer')\n",
    "df_page_1.show()"
   ]
  },
  {
   "cell_type": "code",
   "execution_count": 33,
   "metadata": {},
   "outputs": [
    {
     "name": "stdout",
     "output_type": "stream",
     "text": [
      "+--------------------+---------+---------+------+-------------+--------+---------+-----+--------------------+------+---------------+-------------+---------+--------------------+------+-------------+--------------------+------+-----+-----+\n",
      "|              artist|     auth|firstName|gender|itemInSession|lastName|   length|level|            location|method|           page| registration|sessionId|                song|status|           ts|           userAgent|userId|churn|state|\n",
      "+--------------------+---------+---------+------+-------------+--------+---------+-----+--------------------+------+---------------+-------------+---------+--------------------+------+-------------+--------------------+------+-----+-----+\n",
      "|      Martha Tilston|Logged In|    Colin|     M|           50| Freeman|277.89016| paid|     Bakersfield, CA|   PUT|       NextSong|1538173362000|       29|           Rockpools|   200|1538352117000|Mozilla/5.0 (Wind...|    30|false|   CA|\n",
      "|    Five Iron Frenzy|Logged In|    Micah|     M|           79|    Long|236.09424| free|Boston-Cambridge-...|   PUT|       NextSong|1538331630000|        8|              Canada|   200|1538352180000|\"Mozilla/5.0 (Win...|     9|false|   NH|\n",
      "|        Adam Lambert|Logged In|    Colin|     M|           51| Freeman| 282.8273| paid|     Bakersfield, CA|   PUT|       NextSong|1538173362000|       29|   Time For Miracles|   200|1538352394000|Mozilla/5.0 (Wind...|    30|false|   CA|\n",
      "|              Enigma|Logged In|    Micah|     M|           80|    Long|262.71302| free|Boston-Cambridge-...|   PUT|       NextSong|1538331630000|        8|Knocking On Forbi...|   200|1538352416000|\"Mozilla/5.0 (Win...|     9|false|   NH|\n",
      "|           Daft Punk|Logged In|    Colin|     M|           52| Freeman|223.60771| paid|     Bakersfield, CA|   PUT|       NextSong|1538173362000|       29|Harder Better Fas...|   200|1538352676000|Mozilla/5.0 (Wind...|    30|false|   CA|\n",
      "|The All-American ...|Logged In|    Micah|     M|           81|    Long|208.29995| free|Boston-Cambridge-...|   PUT|       NextSong|1538331630000|        8|      Don't Leave Me|   200|1538352678000|\"Mozilla/5.0 (Win...|     9|false|   NH|\n",
      "|The Velvet Underg...|Logged In|    Micah|     M|           82|    Long|260.46649| free|Boston-Cambridge-...|   PUT|       NextSong|1538331630000|        8|         Run Run Run|   200|1538352886000|\"Mozilla/5.0 (Win...|     9|false|   NH|\n",
      "|        Starflyer 59|Logged In|    Colin|     M|           53| Freeman|185.44281| paid|     Bakersfield, CA|   PUT|       NextSong|1538173362000|       29|Passengers (Old A...|   200|1538352899000|Mozilla/5.0 (Wind...|    30|false|   CA|\n",
      "|                null|Logged In|    Colin|     M|           54| Freeman|     null| paid|     Bakersfield, CA|   PUT|Add to Playlist|1538173362000|       29|                null|   200|1538352905000|Mozilla/5.0 (Wind...|    30|false|   CA|\n",
      "|            Frumpies|Logged In|    Colin|     M|           55| Freeman|134.47791| paid|     Bakersfield, CA|   PUT|       NextSong|1538173362000|       29|          Fuck Kitty|   200|1538353084000|Mozilla/5.0 (Wind...|    30|false|   CA|\n",
      "|        Britt Nicole|Logged In|    Micah|     M|           83|    Long| 229.8771| free|Boston-Cambridge-...|   PUT|       NextSong|1538331630000|        8|   Walk On The Water|   200|1538353146000|\"Mozilla/5.0 (Win...|     9|false|   NH|\n",
      "|                null|Logged In|    Micah|     M|           84|    Long|     null| free|Boston-Cambridge-...|   GET|    Roll Advert|1538331630000|        8|                null|   200|1538353150000|\"Mozilla/5.0 (Win...|     9|false|   NH|\n",
      "|Edward Sharpe & T...|Logged In|    Colin|     M|           56| Freeman|223.58159| paid|     Bakersfield, CA|   PUT|       NextSong|1538173362000|       29|                Jade|   200|1538353218000|Mozilla/5.0 (Wind...|    30|false|   CA|\n",
      "|               Tesla|Logged In|    Micah|     M|           85|    Long|201.06404| free|Boston-Cambridge-...|   PUT|       NextSong|1538331630000|        8|      Gettin' Better|   200|1538353375000|\"Mozilla/5.0 (Win...|     9|false|   NH|\n",
      "|                null|Logged In|    Micah|     M|           86|    Long|     null| free|Boston-Cambridge-...|   PUT|      Thumbs Up|1538331630000|        8|                null|   307|1538353376000|\"Mozilla/5.0 (Win...|     9|false|   NH|\n",
      "|         Stan Mosley|Logged In|    Colin|     M|           57| Freeman|246.69995| paid|     Bakersfield, CA|   PUT|       NextSong|1538173362000|       29|   So-Called Friends|   200|1538353441000|Mozilla/5.0 (Wind...|    30|false|   CA|\n",
      "|Florence + The Ma...|Logged In|    Micah|     M|           87|    Long|168.64608| free|Boston-Cambridge-...|   PUT|       NextSong|1538331630000|        8| You've Got The Love|   200|1538353576000|\"Mozilla/5.0 (Win...|     9|false|   NH|\n",
      "|   Tokyo Police Club|Logged In|  Ashlynn|     F|            0|Williams| 166.1122| free|     Tallahassee, FL|   PUT|       NextSong|1537365219000|      217|Citizens Of Tomorrow|   200|1538353668000|\"Mozilla/5.0 (Mac...|    74|false|   FL|\n",
      "|             Orishas|Logged In|    Colin|     M|           58| Freeman|222.22322| paid|     Bakersfield, CA|   PUT|       NextSong|1538173362000|       29|           Represent|   200|1538353687000|Mozilla/5.0 (Wind...|    30|false|   CA|\n",
      "|             Ratatat|Logged In|    Micah|     M|           88|    Long|229.77261| free|Boston-Cambridge-...|   PUT|       NextSong|1538331630000|        8|              Swisha|   200|1538353744000|\"Mozilla/5.0 (Win...|     9|false|   NH|\n",
      "+--------------------+---------+---------+------+-------------+--------+---------+-----+--------------------+------+---------------+-------------+---------+--------------------+------+-------------+--------------------+------+-----+-----+\n",
      "only showing top 20 rows\n",
      "\n"
     ]
    }
   ],
   "source": [
    "df_churn.show()"
   ]
  },
  {
   "cell_type": "markdown",
   "metadata": {},
   "source": [
    "# Feature Engineering\n",
    "Once you've familiarized yourself with the data, build out the features you find promising to train your model on. To work with the full dataset, you can follow the following steps.\n",
    "- Write a script to extract the necessary features from the smaller subset of data\n",
    "- Ensure that your script is scalable, using the best practices discussed in Lesson 3\n",
    "- Try your script on the full data set, debugging your script if necessary\n",
    "\n",
    "If you are working in the classroom workspace, you can just extract features based on the small subset of data contained here. Be sure to transfer over this work to the larger dataset when you work on your Spark cluster."
   ]
  },
  {
   "cell_type": "markdown",
   "metadata": {},
   "source": [
    "# Features for ML modelling:\n",
    "1. User churn or no churn (1 - churn, 0 - no churn)\n",
    "2. Time period after registration (days)\n",
    "3. The number of played songs by user\n",
    "4. User paid or free (1 - paid, 0 - free)\n",
    "5. User's gender (1 - female, 0 - male)\n",
    "6. User downgrade (count)\n",
    "7. Time period between downgrade and churn\n",
    "8. User's location (one hot encoding of states)\n"
   ]
  },
  {
   "cell_type": "code",
   "execution_count": 34,
   "metadata": {},
   "outputs": [],
   "source": [
    "# Feature 1 - User churn or no churn (1 - churn, 0 - no churn)\n",
    "user_is_churn = df_churn.select(\"userId\", \"churn\").dropDuplicates()\n",
    "user_is_churn = user_is_churn.select(\"userId\", user_is_churn.churn.cast(IntegerType())).sort('userId')"
   ]
  },
  {
   "cell_type": "code",
   "execution_count": 35,
   "metadata": {},
   "outputs": [],
   "source": [
    "feature_set = user_is_churn"
   ]
  },
  {
   "cell_type": "code",
   "execution_count": 36,
   "metadata": {},
   "outputs": [],
   "source": [
    "# Feature 2 - Time period after registration (days)\n",
    "user_max_timestamp = df_churn.groupby('userId').max('ts').sort('userId')\n",
    "user_max_timestamp = user_max_timestamp.withColumnRenamed('max(ts)', 'last_date_by_userId')\n",
    "user_registration_timestamp = df_churn.select('userId', 'registration').dropDuplicates().sort('userId')\n",
    "user_reg_days = user_registration_timestamp.join(user_max_timestamp, on=['userId'], how='inner')\n",
    "user_reg_days = user_reg_days \\\n",
    "    .withColumn('days_after_reg', (user_reg_days['last_date_by_userId']-user_reg_days['registration'])/(1000*60*60*24)) \\\n",
    "    .withColumn('days_after_reg', col('days_after_reg').cast(IntegerType())) \\\n",
    "    .drop('last_date_by_userId') \\\n",
    "    .drop('registration') \\\n",
    "    .sort('userId')"
   ]
  },
  {
   "cell_type": "code",
   "execution_count": 37,
   "metadata": {},
   "outputs": [],
   "source": [
    "# add to feature set\n",
    "feature_set = feature_set.join(user_reg_days, on=['userId'], how='left').sort('userId')"
   ]
  },
  {
   "cell_type": "code",
   "execution_count": 38,
   "metadata": {},
   "outputs": [],
   "source": [
    "# Feature 3 - The number of played songs by user\n",
    "user_num_songs = df_churn.filter(df_churn.page=='NextSong').dropDuplicates().groupby('userId').count()\n",
    "user_num_songs = user_num_songs.withColumnRenamed('count', 'num_songs').sort('userId')"
   ]
  },
  {
   "cell_type": "code",
   "execution_count": 39,
   "metadata": {},
   "outputs": [],
   "source": [
    "# add to feature set\n",
    "feature_set = feature_set.join(user_num_songs, on=['userId'], how='left').sort('userId')"
   ]
  },
  {
   "cell_type": "code",
   "execution_count": 40,
   "metadata": {},
   "outputs": [],
   "source": [
    "# Feature 4 - User paid or free (1 - paid, 0 - free)\n",
    "user_paid = df_churn.groupby('userId', 'level').agg(max(df_churn.ts).alias('last_date_by_userId')).sort('userId')\n",
    "user_recent_paid_status_time = user_paid.groupby('userId').agg(max('last_date_by_userId').alias('last_date_by_userId'))\n",
    "user_recent_paid_status = user_recent_paid_status_time.join(user_paid, on=['userId', 'last_date_by_userId']).select(user_paid.userId, 'level').sort('userId')\n",
    "user_recent_paid_status = user_recent_paid_status.replace(['free', 'paid'], ['0', '1'], 'level')\n",
    "user_recent_paid_status = user_recent_paid_status.select('userId', col('level').cast(IntegerType()))"
   ]
  },
  {
   "cell_type": "code",
   "execution_count": 41,
   "metadata": {},
   "outputs": [],
   "source": [
    "# add to feature set\n",
    "feature_set = feature_set.join(user_recent_paid_status, on=['userId'], how='left').sort('userId')"
   ]
  },
  {
   "cell_type": "code",
   "execution_count": 42,
   "metadata": {},
   "outputs": [],
   "source": [
    "# Feature 5 - User's gender (1 - female, 0 - male)\n",
    "user_gender = df_churn.select('userId', 'gender').distinct()\n",
    "user_gender = user_gender.replace(['M', 'F'], ['0', '1'], 'gender')\n",
    "user_gender = user_gender.select(\"userId\", user_gender.gender.cast(IntegerType()))"
   ]
  },
  {
   "cell_type": "code",
   "execution_count": 43,
   "metadata": {},
   "outputs": [],
   "source": [
    "# add to feature set\n",
    "feature_set = feature_set.join(user_gender, on=['userId'], how='left').sort('userId')"
   ]
  },
  {
   "cell_type": "code",
   "execution_count": 44,
   "metadata": {},
   "outputs": [],
   "source": [
    "# Feature 6 - User downgrade count\n",
    "user_downgrade = df_churn.filter(df_churn.page=='Downgrade').dropDuplicates().groupby('userId').count()\n",
    "user_downgrade = user_downgrade.withColumnRenamed('count', 'downgrade').sort('userId')"
   ]
  },
  {
   "cell_type": "code",
   "execution_count": 45,
   "metadata": {},
   "outputs": [],
   "source": [
    "# add to feature set\n",
    "feature_set = feature_set.join(user_downgrade, on=['userId'], how='left').sort('userId')"
   ]
  },
  {
   "cell_type": "code",
   "execution_count": 46,
   "metadata": {},
   "outputs": [],
   "source": [
    "# Feature 7 - User submit downgrade count\n",
    "user_submit_downgrade = df_churn.filter(df_churn.page=='Submit Downgrade').dropDuplicates().groupby('userId').count()\n",
    "user_submit_downgrade = user_submit_downgrade.withColumnRenamed('count', 'submit_downgrade').sort('userId')"
   ]
  },
  {
   "cell_type": "code",
   "execution_count": 47,
   "metadata": {},
   "outputs": [],
   "source": [
    "# add to feature set\n",
    "feature_set = feature_set.join(user_submit_downgrade, on=['userId'], how='left').sort('userId')"
   ]
  },
  {
   "cell_type": "code",
   "execution_count": 48,
   "metadata": {},
   "outputs": [],
   "source": [
    "# Feature 8 - Time between downgrade and churn\n",
    "downgrade_to_churn = df_churn.filter((df_churn.churn==1) & (df_churn.page=='Downgrade')).dropDuplicates().groupby('userId').agg(max('ts')-min('ts'))\n",
    "downgrade_to_churn = downgrade_to_churn.withColumnRenamed('(max(ts) - min(ts))', 'time_dow_to_churn').sort('userId')"
   ]
  },
  {
   "cell_type": "code",
   "execution_count": 49,
   "metadata": {},
   "outputs": [],
   "source": [
    "# add to feature set\n",
    "feature_set = feature_set.join(downgrade_to_churn, on=['userId'], how='left').sort('userId')"
   ]
  },
  {
   "cell_type": "code",
   "execution_count": 50,
   "metadata": {},
   "outputs": [],
   "source": [
    "# Feature 9 - User's location (one hot encoding of states)\n",
    "user_state = df_churn.select('userId', 'state').distinct().sort('userID')\n",
    "# convert names of states into numbers\n",
    "indexer = StringIndexer(inputCol='state', outputCol='state_numeric')\n",
    "user_state_indexed = indexer.fit(user_state).transform(user_state)\n",
    "# make a list of states names\n",
    "states = user_state_indexed.select(['state', 'state_numeric']).distinct().sort('state_numeric')\n",
    "list_states = states.select('state').rdd.flatMap(lambda x: x).collect()\n",
    "# one hot encoding the numbers of states\n",
    "encoder = OneHotEncoder(inputCol='state_numeric', outputCol='state_onehot')\n",
    "user_state_onehot = encoder.transform(user_state_indexed)\n",
    "#convert one hot encoded vector into multiple columns and rename of columns\n",
    "vector_udf = udf(lambda vector: vector.toArray().tolist(), ArrayType(DoubleType()))\n",
    "user_state_onehot = user_state_onehot.withColumn('state_onehot_vec', vector_udf('state_onehot'))\n",
    "\n",
    "arr_size = len(list_states)\n",
    "user_state_onehot_new = user_state_onehot.select(['state_onehot_vec']+[expr('state_onehot_vec[' + str(x) + ']') for x in range(0, arr_size)])\n",
    "\n",
    "for x in range(0, arr_size):\n",
    "    user_state_onehot_new = user_state_onehot_new.withColumnRenamed('state_onehot_vec['+ str(x) + ']', list_states[x])\n",
    "\n",
    "user_state_onehot_new = user_state_onehot_new.distinct()\n",
    "user_state_encoded = user_state_onehot.join(user_state_onehot_new, on=['state_onehot_vec'], how='inner') \n",
    "\n",
    "# drop unnecessary columns\n",
    "user_state_encoded = user_state_encoded.drop('state') \\\n",
    "    .drop('state_onehot_vec') \\\n",
    "    .drop('state_numeric') \\\n",
    "    .drop('state_onehot')"
   ]
  },
  {
   "cell_type": "code",
   "execution_count": 51,
   "metadata": {},
   "outputs": [],
   "source": [
    "# add to feature set\n",
    "feature_set = feature_set.join(user_state_encoded, on=['userId'], how='left').sort('userId')"
   ]
  },
  {
   "cell_type": "code",
   "execution_count": 52,
   "metadata": {},
   "outputs": [
    {
     "name": "stdout",
     "output_type": "stream",
     "text": [
      "+------+-----+--------------+---------+-----+------+---------+----------------+-----------------+---+---+---+---+---+---+---+---+---+---+---+---+---+---+---+---+---+---+---+---+---+---+---+---+---+---+---+---+---+---+---+---+---+---+---+---+---+---+---+\n",
      "|userId|churn|days_after_reg|num_songs|level|gender|downgrade|submit_downgrade|time_dow_to_churn| CA| PA| TX| FL| WI| IL| NC| SC| AZ| MD| CT| NH| IN| WA| AL| WV| MI| NY| CO| GA| KY| NJ| NV| OH| VA| MS| MA| IA| AK| KS| AR| MT| LA| ID| OR| TN| MO| OK| UT|\n",
      "+------+-----+--------------+---------+-----+------+---------+----------------+-----------------+---+---+---+---+---+---+---+---+---+---+---+---+---+---+---+---+---+---+---+---+---+---+---+---+---+---+---+---+---+---+---+---+---+---+---+---+---+---+---+\n",
      "|    10|    0|            51|      673|    1|     0|        7|               0|                0|0.0|0.0|0.0|0.0|0.0|0.0|0.0|0.0|0.0|0.0|0.0|0.0|0.0|0.0|0.0|0.0|0.0|0.0|0.0|0.0|0.0|0.0|0.0|0.0|0.0|1.0|0.0|0.0|0.0|0.0|0.0|0.0|0.0|0.0|0.0|0.0|0.0|0.0|0.0|\n",
      "|   100|    0|            64|     2682|    1|     0|       30|               1|                0|0.0|0.0|1.0|0.0|0.0|0.0|0.0|0.0|0.0|0.0|0.0|0.0|0.0|0.0|0.0|0.0|0.0|0.0|0.0|0.0|0.0|0.0|0.0|0.0|0.0|0.0|0.0|0.0|0.0|0.0|0.0|0.0|0.0|0.0|0.0|0.0|0.0|0.0|0.0|\n",
      "|100001|    1|            44|      133|    0|     1|        0|               0|                0|0.0|0.0|0.0|1.0|0.0|0.0|0.0|0.0|0.0|0.0|0.0|0.0|0.0|0.0|0.0|0.0|0.0|0.0|0.0|0.0|0.0|0.0|0.0|0.0|0.0|0.0|0.0|0.0|0.0|0.0|0.0|0.0|0.0|0.0|0.0|0.0|0.0|0.0|0.0|\n",
      "|100002|    0|           160|      195|    1|     1|        2|               0|                0|1.0|0.0|0.0|0.0|0.0|0.0|0.0|0.0|0.0|0.0|0.0|0.0|0.0|0.0|0.0|0.0|0.0|0.0|0.0|0.0|0.0|0.0|0.0|0.0|0.0|0.0|0.0|0.0|0.0|0.0|0.0|0.0|0.0|0.0|0.0|0.0|0.0|0.0|0.0|\n",
      "|100003|    1|            22|       51|    0|     1|        0|               0|                0|0.0|0.0|0.0|1.0|0.0|0.0|0.0|0.0|0.0|0.0|0.0|0.0|0.0|0.0|0.0|0.0|0.0|0.0|0.0|0.0|0.0|0.0|0.0|0.0|0.0|0.0|0.0|0.0|0.0|0.0|0.0|0.0|0.0|0.0|0.0|0.0|0.0|0.0|0.0|\n",
      "+------+-----+--------------+---------+-----+------+---------+----------------+-----------------+---+---+---+---+---+---+---+---+---+---+---+---+---+---+---+---+---+---+---+---+---+---+---+---+---+---+---+---+---+---+---+---+---+---+---+---+---+---+---+\n",
      "only showing top 5 rows\n",
      "\n"
     ]
    }
   ],
   "source": [
    "feature_set = feature_set.fillna(0)\n",
    "feature_set.show(5)"
   ]
  },
  {
   "cell_type": "markdown",
   "metadata": {},
   "source": [
    "# Modeling\n",
    "Split the full dataset into train, test, and validation sets. Test out several of the machine learning methods you learned. Evaluate the accuracy of the various models, tuning parameters as necessary. Determine your winning model based on test accuracy and report results on the validation set. Since the churned users are a fairly small subset, I suggest using F1 score as the metric to optimize."
   ]
  },
  {
   "cell_type": "code",
   "execution_count": 53,
   "metadata": {},
   "outputs": [
    {
     "data": {
      "text/plain": [
       "48"
      ]
     },
     "execution_count": 53,
     "metadata": {},
     "output_type": "execute_result"
    }
   ],
   "source": [
    "# number of columns in feature dataset\n",
    "len(feature_set.columns)"
   ]
  },
  {
   "cell_type": "code",
   "execution_count": 54,
   "metadata": {},
   "outputs": [
    {
     "name": "stdout",
     "output_type": "stream",
     "text": [
      "+-----+-----+\n",
      "|churn|count|\n",
      "+-----+-----+\n",
      "|    1|   52|\n",
      "|    0|  173|\n",
      "+-----+-----+\n",
      "\n"
     ]
    }
   ],
   "source": [
    "feature_set.groupby(\"churn\").count().show()"
   ]
  },
  {
   "cell_type": "code",
   "execution_count": 55,
   "metadata": {},
   "outputs": [],
   "source": [
    "X = feature_set.select([col for col in feature_set.columns[2:]])"
   ]
  },
  {
   "cell_type": "code",
   "execution_count": 56,
   "metadata": {},
   "outputs": [],
   "source": [
    "y = feature_set.select('churn')"
   ]
  },
  {
   "cell_type": "markdown",
   "metadata": {},
   "source": [
    " ML Pipeline"
   ]
  },
  {
   "cell_type": "code",
   "execution_count": 65,
   "metadata": {},
   "outputs": [],
   "source": [
    "# build a pipeline for the ML modelling\n",
    "random_state = 42\n",
    "train, test = feature_set.randomSplit([0.8, 0.2])\n",
    "\n",
    "assembler = VectorAssembler(inputCols=feature_set.columns[2:],outputCol='featuresassemble')\n",
    "scaler = StandardScaler(inputCol=\"featuresassemble\", outputCol=\"features\", withStd=True)\n",
    "indexer = StringIndexer(inputCol=\"churn\", outputCol=\"label\")"
   ]
  },
  {
   "cell_type": "markdown",
   "metadata": {},
   "source": [
    "The Logistic Regression Classifier model"
   ]
  },
  {
   "cell_type": "code",
   "execution_count": 56,
   "metadata": {},
   "outputs": [],
   "source": [
    "log_reg = LogisticRegression()\n",
    "\n",
    "pipeline_log_reg = Pipeline(stages=[assembler, scaler, indexer, log_reg])\n",
    "\n",
    "param_grid_log_reg = ParamGridBuilder() \\\n",
    "    .addGrid(log_reg.regParam,[0.01]) \\\n",
    "    .addGrid(log_reg.elasticNetParam,[0.0]) \\\n",
    "    .addGrid(log_reg.aggregationDepth,[2]) \\\n",
    "    .build()\n",
    "\n",
    "cv_log_reg = CrossValidator(estimator=pipeline_log_reg,\n",
    "                          estimatorParamMaps=param_grid_log_reg,\n",
    "                          evaluator=BinaryClassificationEvaluator(),\n",
    "                          numFolds=3)"
   ]
  },
  {
   "cell_type": "code",
   "execution_count": 57,
   "metadata": {},
   "outputs": [],
   "source": [
    "model_cv_log_reg = cv_log_reg.fit(train)"
   ]
  },
  {
   "cell_type": "code",
   "execution_count": 58,
   "metadata": {},
   "outputs": [],
   "source": [
    "res_log_reg = model_cv_log_reg.transform(test)"
   ]
  },
  {
   "cell_type": "code",
   "execution_count": 59,
   "metadata": {},
   "outputs": [
    {
     "data": {
      "text/plain": [
       "[0.8400583872281986]"
      ]
     },
     "execution_count": 59,
     "metadata": {},
     "output_type": "execute_result"
    }
   ],
   "source": [
    "model_cv_log_reg.avgMetrics"
   ]
  },
  {
   "cell_type": "code",
   "execution_count": 60,
   "metadata": {},
   "outputs": [],
   "source": [
    "res = model_cv_log_reg.transform(train).select('label', 'prediction')\n",
    "TruePos = res.filter((res.prediction==1) & (res.label == res.prediction)).count()\n",
    "TrueNeg = res.filter((res.prediction==0) & (res.label == res.prediction)).count()\n",
    "FalsPos = res.filter((res.prediction==1) & (res.label != res.prediction)).count()\n",
    "FalsNeg = res.filter((res.prediction==0) & (res.label != res.prediction)).count()\n",
    "accuracy = res.filter(res.label == res.prediction).count()/res.count()\n",
    "precision = TruePos / (TruePos + FalsPos)\n",
    "recall = TruePos / (TruePos + FalsNeg)\n",
    "f1score = 2 * precision * recall / (precision + recall)"
   ]
  },
  {
   "cell_type": "code",
   "execution_count": 61,
   "metadata": {},
   "outputs": [
    {
     "name": "stdout",
     "output_type": "stream",
     "text": [
      "Results for Logistic Regression Classifier (train):\n",
      "Accuracy =  0.9247311827956989\n",
      "Precision =  0.9375\n",
      "Recall =  0.7142857142857143\n",
      "f1 score =  0.8108108108108109\n"
     ]
    }
   ],
   "source": [
    "print('Results for Logistic Regression Classifier (train):')\n",
    "print('Accuracy = ', accuracy)\n",
    "print('Precision = ', precision)\n",
    "print('Recall = ', recall)\n",
    "print('f1 score = ', f1score)"
   ]
  },
  {
   "cell_type": "code",
   "execution_count": 62,
   "metadata": {},
   "outputs": [],
   "source": [
    "res = model_cv_log_reg.transform(test).select('label', 'prediction')\n",
    "TruePos = res.filter((res.prediction==1) & (res.label == res.prediction)).count()\n",
    "TrueNeg = res.filter((res.prediction==0) & (res.label == res.prediction)).count()\n",
    "FalsPos = res.filter((res.prediction==1) & (res.label != res.prediction)).count()\n",
    "FalsNeg = res.filter((res.prediction==0) & (res.label != res.prediction)).count()\n",
    "accuracy = res.filter(res.label == res.prediction).count()/res.count()\n",
    "precision = TruePos / (TruePos + FalsPos)\n",
    "recall = TruePos / (TruePos + FalsNeg)\n",
    "f1score = 2 * precision * recall / (precision + recall)"
   ]
  },
  {
   "cell_type": "code",
   "execution_count": 63,
   "metadata": {},
   "outputs": [
    {
     "name": "stdout",
     "output_type": "stream",
     "text": [
      "Results for Logistic Regression Classifier (test):\n",
      "Accuracy =  0.8205128205128205\n",
      "Precision =  0.8\n",
      "Recall =  0.4\n",
      "f1 score =  0.5333333333333333\n"
     ]
    }
   ],
   "source": [
    "print('Results for Logistic Regression Classifier (test):')\n",
    "print('Accuracy = ', accuracy)\n",
    "print('Precision = ', precision)\n",
    "print('Recall = ', recall)\n",
    "print('f1 score = ', f1score)"
   ]
  },
  {
   "cell_type": "markdown",
   "metadata": {},
   "source": [
    "Compare results on train and test datasets, we can see that f1-score for training set is 0.81, but f1-score for test set is 0.53. That looks like overfitting of the model."
   ]
  },
  {
   "cell_type": "code",
   "execution_count": null,
   "metadata": {},
   "outputs": [],
   "source": []
  },
  {
   "cell_type": "markdown",
   "metadata": {},
   "source": [
    " The Decision Tree Classifier model"
   ]
  },
  {
   "cell_type": "code",
   "execution_count": 66,
   "metadata": {},
   "outputs": [],
   "source": [
    "dec_tree = DecisionTreeClassifier()\n",
    "\n",
    "pipeline_dec_tree = Pipeline(stages=[assembler, scaler, indexer, dec_tree])\n",
    "\n",
    "param_grid_dec_tree = ParamGridBuilder() \\\n",
    "    .addGrid(dec_tree.maxDepth,[3, 5]) \\\n",
    "    .addGrid(dec_tree.impurity,['entropy', 'gini']) \\\n",
    "    .build()\n",
    "\n",
    "cv_dec_tree = CrossValidator(estimator=pipeline_dec_tree,\n",
    "                          estimatorParamMaps=param_grid_dec_tree,\n",
    "                          evaluator=BinaryClassificationEvaluator(),\n",
    "                          numFolds=3)"
   ]
  },
  {
   "cell_type": "code",
   "execution_count": 67,
   "metadata": {},
   "outputs": [],
   "source": [
    "model_cv_dec_tree = cv_dec_tree.fit(train)"
   ]
  },
  {
   "cell_type": "code",
   "execution_count": 68,
   "metadata": {},
   "outputs": [],
   "source": [
    "res_dec_tree = model_cv_dec_tree.transform(test)"
   ]
  },
  {
   "cell_type": "code",
   "execution_count": 69,
   "metadata": {},
   "outputs": [
    {
     "data": {
      "text/plain": [
       "[0.8392903392903392,\n",
       " 0.8181664014997347,\n",
       " 0.9116742311186756,\n",
       " 0.8042091653202763]"
      ]
     },
     "execution_count": 69,
     "metadata": {},
     "output_type": "execute_result"
    }
   ],
   "source": [
    "model_cv_dec_tree.avgMetrics"
   ]
  },
  {
   "cell_type": "code",
   "execution_count": 70,
   "metadata": {},
   "outputs": [],
   "source": [
    "res = model_cv_dec_tree.transform(train).select('label', 'prediction')\n",
    "TruePos = res.filter((res.prediction==1) & (res.label == res.prediction)).count()\n",
    "TrueNeg = res.filter((res.prediction==0) & (res.label == res.prediction)).count()\n",
    "FalsPos = res.filter((res.prediction==1) & (res.label != res.prediction)).count()\n",
    "FalsNeg = res.filter((res.prediction==0) & (res.label != res.prediction)).count()\n",
    "accuracy = res.filter(res.label == res.prediction).count()/res.count()\n",
    "precision = TruePos / (TruePos + FalsPos)\n",
    "recall = TruePos / (TruePos + FalsNeg)\n",
    "f1score = 2 * precision * recall / (precision + recall)"
   ]
  },
  {
   "cell_type": "code",
   "execution_count": 71,
   "metadata": {},
   "outputs": [
    {
     "name": "stdout",
     "output_type": "stream",
     "text": [
      "Results for Decision Tree Classifier (train):\n",
      "Accuracy =  0.9456521739130435\n",
      "Precision =  1.0\n",
      "Recall =  0.75\n",
      "f1 score =  0.8571428571428571\n"
     ]
    }
   ],
   "source": [
    "print('Results for Decision Tree Classifier (train):')\n",
    "print('Accuracy = ', accuracy)\n",
    "print('Precision = ', precision)\n",
    "print('Recall = ', recall)\n",
    "print('f1 score = ', f1score)"
   ]
  },
  {
   "cell_type": "code",
   "execution_count": 72,
   "metadata": {},
   "outputs": [],
   "source": [
    "res = model_cv_dec_tree.transform(test).select('label', 'prediction')\n",
    "TruePos = res.filter((res.prediction==1) & (res.label == res.prediction)).count()\n",
    "TrueNeg = res.filter((res.prediction==0) & (res.label == res.prediction)).count()\n",
    "FalsPos = res.filter((res.prediction==1) & (res.label != res.prediction)).count()\n",
    "FalsNeg = res.filter((res.prediction==0) & (res.label != res.prediction)).count()\n",
    "accuracy = res.filter(res.label == res.prediction).count()/res.count()\n",
    "precision = TruePos / (TruePos + FalsPos)\n",
    "recall = TruePos / (TruePos + FalsNeg)\n",
    "f1score = 2 * precision * recall / (precision + recall)"
   ]
  },
  {
   "cell_type": "code",
   "execution_count": 73,
   "metadata": {},
   "outputs": [
    {
     "name": "stdout",
     "output_type": "stream",
     "text": [
      "Results for Decision Tree Classifier (test):\n",
      "Accuracy =  0.9024390243902439\n",
      "Precision =  1.0\n",
      "Recall =  0.6666666666666666\n",
      "f1 score =  0.8\n"
     ]
    }
   ],
   "source": [
    "print('Results for Decision Tree Classifier (test):')\n",
    "print('Accuracy = ', accuracy)\n",
    "print('Precision = ', precision)\n",
    "print('Recall = ', recall)\n",
    "print('f1 score = ', f1score)"
   ]
  },
  {
   "cell_type": "markdown",
   "metadata": {},
   "source": [
    "The result for Decision Tree Model is very good. f1-score is 0.85 for training set and 0.8 for test set, very good model."
   ]
  },
  {
   "cell_type": "code",
   "execution_count": 94,
   "metadata": {},
   "outputs": [],
   "source": [
    "best_model = model_cv_dec_tree"
   ]
  },
  {
   "cell_type": "code",
   "execution_count": null,
   "metadata": {},
   "outputs": [],
   "source": []
  },
  {
   "cell_type": "markdown",
   "metadata": {},
   "source": [
    "# Final Steps\n",
    "Clean up your code, adding comments and renaming variables to make the code easier to read and maintain. Refer to the Spark Project Overview page and Data Scientist Capstone Project Rubric to make sure you are including all components of the capstone project and meet all expectations. Remember, this includes thorough documentation in a README file in a Github repository, as well as a web app or blog post."
   ]
  },
  {
   "cell_type": "code",
   "execution_count": null,
   "metadata": {},
   "outputs": [],
   "source": []
  }
 ],
 "metadata": {
  "kernelspec": {
   "display_name": "Python 3",
   "language": "python",
   "name": "python3"
  },
  "language_info": {
   "codemirror_mode": {
    "name": "ipython",
    "version": 3
   },
   "file_extension": ".py",
   "mimetype": "text/x-python",
   "name": "python",
   "nbconvert_exporter": "python",
   "pygments_lexer": "ipython3",
   "version": "3.6.3"
  }
 },
 "nbformat": 4,
 "nbformat_minor": 2
}
